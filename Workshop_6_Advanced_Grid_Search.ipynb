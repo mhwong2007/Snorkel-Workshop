{
 "cells": [
  {
   "cell_type": "markdown",
   "metadata": {},
   "source": [
    "<img align=\"left\" src=\"imgs/logo.jpg\" width=\"50px\" style=\"margin-right:10px\">\n",
    "\n",
    "# Snorkel Workshop: Extracting Spouse Relations from the News\n",
    "## Advanced Part 6:  Hyperparameter Tuning via Grid Search\n"
   ]
  },
  {
   "cell_type": "code",
   "execution_count": 1,
   "metadata": {},
   "outputs": [],
   "source": [
    "%load_ext autoreload\n",
    "%autoreload 2\n",
    "%matplotlib inline\n",
    "import os\n",
    "import numpy as np\n",
    "\n",
    "# Connect to the database backend and initalize a Snorkel session\n",
    "from lib.init import *"
   ]
  },
  {
   "cell_type": "markdown",
   "metadata": {},
   "source": [
    "We repeat our definition of the `Spouse` `Candidate` subclass, and load the test set:"
   ]
  },
  {
   "cell_type": "code",
   "execution_count": 2,
   "metadata": {},
   "outputs": [],
   "source": [
    "Spouse = candidate_subclass('Spouse', ['person1', 'person2'])"
   ]
  },
  {
   "cell_type": "markdown",
   "metadata": {},
   "source": [
    "# I. Training a `SparseLogisticRegression` Discriminative Model\n",
    "We use the training marginals to train a discriminative model that classifies each `Candidate` as a true or false mention. We'll use a random hyperparameter search, evaluated on the development set labels, to find the best hyperparameters for our model. To run a hyperparameter search, we need labels for a development set. If they aren't already available, we can manually create labels using the Viewer."
   ]
  },
  {
   "cell_type": "markdown",
   "metadata": {},
   "source": [
    "## Feature Extraction\n",
    "Instead of using a deep learning approach to start, let's look at a standard sparse logistic regression model. First, we need to extract out features. This can take a while, but we only have to do it once!"
   ]
  },
  {
   "cell_type": "code",
   "execution_count": 3,
   "metadata": {},
   "outputs": [],
   "source": [
    "from lib.features import hybrid_span_mention_ftrs\n",
    "from snorkel.annotations import FeatureAnnotator\n",
    "\n",
    "featurizer = FeatureAnnotator(f=hybrid_span_mention_ftrs)"
   ]
  },
  {
   "cell_type": "code",
   "execution_count": 4,
   "metadata": {},
   "outputs": [
    {
     "name": "stdout",
     "output_type": "stream",
     "text": [
      "Clearing existing...\n",
      "Running UDF...\n",
      "[========================================] 100%\n",
      "\n",
      "CPU times: user 10min 7s, sys: 36.5 s, total: 10min 44s\n",
      "Wall time: 16min 16s\n",
      "Clearing existing...\n",
      "Running UDF...\n",
      "[========================================] 100%\n",
      "\n",
      "CPU times: user 2min, sys: 7.4 s, total: 2min 8s\n",
      "Wall time: 3min 14s\n",
      "Clearing existing...\n",
      "Running UDF...\n",
      "[========================================] 100%\n",
      "\n",
      "CPU times: user 1min 47s, sys: 6.97 s, total: 1min 54s\n",
      "Wall time: 2min 57s\n",
      "(16672, 240337)\n",
      "(2245, 240337)\n",
      "(1949, 240337)\n"
     ]
    }
   ],
   "source": [
    "F_train = featurizer.load_matrix(session, split=0)\n",
    "F_dev   = featurizer.load_matrix(session, split=1)\n",
    "F_test  = featurizer.load_matrix(session, split=2)\n",
    "\n",
    "if F_train.size == 0:    \n",
    "    %time F_train = featurizer.apply(split=0, parallelism=1)\n",
    "if F_dev.size == 0:     \n",
    "    %time F_dev  = featurizer.apply_existing(split=1, parallelism=1)\n",
    "if F_test.size == 0:\n",
    "    %time F_test = featurizer.apply_existing(split=2, parallelism=1)\n",
    "\n",
    "print(F_train.shape)\n",
    "print(F_dev.shape)\n",
    "print(F_test.shape)"
   ]
  },
  {
   "cell_type": "markdown",
   "metadata": {},
   "source": [
    "\n",
    "\n",
    "First, reload the training marginals:"
   ]
  },
  {
   "cell_type": "code",
   "execution_count": 5,
   "metadata": {},
   "outputs": [],
   "source": [
    "from snorkel.annotations import load_marginals\n",
    "train_marginals = load_marginals(session, split=0)"
   ]
  },
  {
   "cell_type": "code",
   "execution_count": 6,
   "metadata": {},
   "outputs": [
    {
     "data": {
      "image/png": "[encoded data removed]",
      "text/plain": [
       "<Figure size 432x288 with 1 Axes>"
      ]
     },
     "metadata": {
      "needs_background": "light"
     },
     "output_type": "display_data"
    }
   ],
   "source": [
    "import matplotlib.pyplot as plt\n",
    "plt.hist(train_marginals, bins=20)\n",
    "plt.show()"
   ]
  },
  {
   "cell_type": "markdown",
   "metadata": {},
   "source": [
    "Load our development data for tuning"
   ]
  },
  {
   "cell_type": "code",
   "execution_count": 7,
   "metadata": {},
   "outputs": [
    {
     "data": {
      "text/plain": [
       "(2245, 1)"
      ]
     },
     "execution_count": 7,
     "metadata": {},
     "output_type": "execute_result"
    }
   ],
   "source": [
    "from snorkel.annotations import load_gold_labels\n",
    "\n",
    "L_gold_dev = load_gold_labels(session, annotator_name='gold', split=1)\n",
    "L_gold_dev.shape"
   ]
  },
  {
   "cell_type": "markdown",
   "metadata": {},
   "source": [
    "The following code performs model selection by tuning our learning algorithm's hyperparamters. **_Note: This requires installing tensorflow: `conda install tensorflow`._**"
   ]
  },
  {
   "cell_type": "code",
   "execution_count": 8,
   "metadata": {},
   "outputs": [
    {
     "name": "stdout",
     "output_type": "stream",
     "text": [
      "WARNING:tensorflow:\n",
      "The TensorFlow contrib module will not be included in TensorFlow 2.0.\n",
      "For more information, please see:\n",
      "  * https://github.com/tensorflow/community/blob/master/rfcs/20180907-contrib-sunset.md\n",
      "  * https://github.com/tensorflow/addons\n",
      "  * https://github.com/tensorflow/io (for I/O related ops)\n",
      "If you depend on functionality not listed there, please file an issue.\n",
      "\n",
      "Discriminitive Model Parameter Space (seed=1234):\n",
      "0 (128, 0.0001, 0.01, 0.01, 0.0)\n",
      "1 (128, 0.0001, 0.01, 0.01, 0.5)\n",
      "2 (64, 0.001, 0.01, 0.01, 0.0)\n",
      "3 (128, 0.001, 1e-06, 1e-06, 0.5)\n",
      "4 (64, 0.001, 1e-06, 1e-06, 0.5)\n",
      "============================================================\n",
      "[1] Testing batch_size = 64, lr = 1.00e-04, l1_penalty = 1.00e-06, l2_penalty = 1.00e-04, rebalance = 0.00e+00\n",
      "============================================================\n",
      "WARNING:tensorflow:From /opt/conda/lib/python3.7/site-packages/snorkel/learning/tensorflow/noise_aware_model.py:114: The name tf.set_random_seed is deprecated. Please use tf.compat.v1.set_random_seed instead.\n",
      "\n",
      "WARNING:tensorflow:From /opt/conda/lib/python3.7/site-packages/snorkel/learning/tensorflow/logistic_regression.py:96: The name tf.placeholder is deprecated. Please use tf.compat.v1.placeholder instead.\n",
      "\n",
      "WARNING:tensorflow:From /opt/conda/lib/python3.7/site-packages/snorkel/learning/tensorflow/logistic_regression.py:108: The name tf.random_normal is deprecated. Please use tf.random.normal instead.\n",
      "\n",
      "WARNING:tensorflow:From /opt/conda/lib/python3.7/site-packages/snorkel/learning/tensorflow/noise_aware_model.py:126: The name tf.Session is deprecated. Please use tf.compat.v1.Session instead.\n",
      "\n",
      "WARNING:tensorflow:From /opt/conda/lib/python3.7/site-packages/snorkel/learning/tensorflow/noise_aware_model.py:126: The name tf.ConfigProto is deprecated. Please use tf.compat.v1.ConfigProto instead.\n",
      "\n",
      "WARNING:tensorflow:From /opt/conda/lib/python3.7/site-packages/tensorflow_core/python/ops/nn_impl.py:183: where (from tensorflow.python.ops.array_ops) is deprecated and will be removed in a future version.\n",
      "Instructions for updating:\n",
      "Use tf.where in 2.0, which has the same broadcast rule as np.where\n",
      "WARNING:tensorflow:From /opt/conda/lib/python3.7/site-packages/snorkel/learning/tensorflow/noise_aware_model.py:89: The name tf.train.AdamOptimizer is deprecated. Please use tf.compat.v1.train.AdamOptimizer instead.\n",
      "\n",
      "WARNING:tensorflow:From /opt/conda/lib/python3.7/site-packages/snorkel/learning/tensorflow/noise_aware_model.py:216: The name tf.global_variables_initializer is deprecated. Please use tf.compat.v1.global_variables_initializer instead.\n",
      "\n",
      "[SparseLogisticRegression] Training model\n",
      "[SparseLogisticRegression] n_train=1495  #epochs=30  batch size=64\n",
      "[SparseLogisticRegression] Epoch 0 (0.92s)\tAverage loss=0.947900\tDev F1=9.33\n",
      "[SparseLogisticRegression] Epoch 10 (5.46s)\tAverage loss=0.850286\tDev F1=8.98\n",
      "[SparseLogisticRegression] Epoch 20 (9.66s)\tAverage loss=0.800285\tDev F1=8.67\n",
      "WARNING:tensorflow:From /opt/conda/lib/python3.7/site-packages/snorkel/learning/tensorflow/noise_aware_model.py:311: The name tf.train.Saver is deprecated. Please use tf.compat.v1.train.Saver instead.\n",
      "\n",
      "WARNING:tensorflow:From /opt/conda/lib/python3.7/site-packages/snorkel/learning/tensorflow/noise_aware_model.py:311: The name tf.global_variables is deprecated. Please use tf.compat.v1.global_variables instead.\n",
      "\n",
      "[SparseLogisticRegression] Model saved as <SparseLogisticRegression>\n",
      "[SparseLogisticRegression] Epoch 29 (16.67s)\tAverage loss=0.773046\tDev F1=8.73\n",
      "[SparseLogisticRegression] Model saved as <SparseLogisticRegression>\n",
      "[SparseLogisticRegression] Training done (17.48s)\n",
      "INFO:tensorflow:Restoring parameters from checkpoints/SparseLogisticRegression/SparseLogisticRegression-29\n",
      "[SparseLogisticRegression] Loaded model <SparseLogisticRegression>\n",
      "[SparseLogisticRegression] F-1 Score: 0.08729540140296181\n",
      "[SparseLogisticRegression] Model saved as <SparseLogisticRegression_0>\n",
      "[SparseLogisticRegression] Model saved as <SparseLogisticRegression_best>\n",
      "============================================================\n",
      "[2] Testing batch_size = 64, lr = 1.00e-03, l1_penalty = 1.00e-04, l2_penalty = 1.00e-02, rebalance = 5.00e-01\n",
      "============================================================\n",
      "[SparseLogisticRegression] Training model\n",
      "[SparseLogisticRegression] n_train=384  #epochs=30  batch size=64\n",
      "[SparseLogisticRegression] Epoch 0 (3.12s)\tAverage loss=14.215144\tDev F1=9.60\n",
      "[SparseLogisticRegression] Epoch 10 (8.22s)\tAverage loss=6.040145\tDev F1=9.12\n",
      "[SparseLogisticRegression] Epoch 20 (10.90s)\tAverage loss=2.856057\tDev F1=9.76\n",
      "[SparseLogisticRegression] Model saved as <SparseLogisticRegression>\n",
      "[SparseLogisticRegression] Epoch 29 (13.58s)\tAverage loss=1.657739\tDev F1=9.99\n",
      "[SparseLogisticRegression] Model saved as <SparseLogisticRegression>\n",
      "[SparseLogisticRegression] Training done (14.16s)\n",
      "INFO:tensorflow:Restoring parameters from checkpoints/SparseLogisticRegression/SparseLogisticRegression-29\n",
      "[SparseLogisticRegression] Loaded model <SparseLogisticRegression>\n",
      "[SparseLogisticRegression] F-1 Score: 0.09992429977289932\n",
      "[SparseLogisticRegression] Model saved as <SparseLogisticRegression_1>\n",
      "[SparseLogisticRegression] Model saved as <SparseLogisticRegression_best>\n",
      "============================================================\n",
      "[3] Testing batch_size = 128, lr = 1.00e-02, l1_penalty = 1.00e-06, l2_penalty = 1.00e-04, rebalance = 0.00e+00\n",
      "============================================================\n",
      "[SparseLogisticRegression] Training model\n",
      "[SparseLogisticRegression] n_train=1495  #epochs=30  batch size=128\n",
      "[SparseLogisticRegression] Epoch 0 (3.45s)\tAverage loss=0.868222\tDev F1=9.06\n",
      "[SparseLogisticRegression] Epoch 10 (18.41s)\tAverage loss=0.757999\tDev F1=9.34\n",
      "[SparseLogisticRegression] Epoch 20 (30.31s)\tAverage loss=0.771981\tDev F1=9.53\n",
      "[SparseLogisticRegression] Model saved as <SparseLogisticRegression>\n",
      "[SparseLogisticRegression] Epoch 29 (36.57s)\tAverage loss=0.763057\tDev F1=8.44\n",
      "[SparseLogisticRegression] Training done (37.17s)\n",
      "INFO:tensorflow:Restoring parameters from checkpoints/SparseLogisticRegression/SparseLogisticRegression-20\n",
      "[SparseLogisticRegression] Loaded model <SparseLogisticRegression>\n",
      "[SparseLogisticRegression] F-1 Score: 0.09532062391681109\n",
      "============================================================\n",
      "[4] Testing batch_size = 64, lr = 1.00e-02, l1_penalty = 1.00e-02, l2_penalty = 1.00e-02, rebalance = 0.00e+00\n",
      "============================================================\n",
      "[SparseLogisticRegression] Training model\n",
      "[SparseLogisticRegression] n_train=1495  #epochs=30  batch size=64\n",
      "[SparseLogisticRegression] Epoch 0 (1.48s)\tAverage loss=70.417847\tDev F1=8.10\n",
      "[SparseLogisticRegression] Epoch 10 (8.56s)\tAverage loss=3.784748\tDev F1=9.73\n",
      "[SparseLogisticRegression] Epoch 20 (16.02s)\tAverage loss=3.822733\tDev F1=9.40\n",
      "[SparseLogisticRegression] Model saved as <SparseLogisticRegression>\n",
      "[SparseLogisticRegression] Epoch 29 (28.30s)\tAverage loss=3.833465\tDev F1=9.11\n",
      "[SparseLogisticRegression] Training done (30.64s)\n",
      "INFO:tensorflow:Restoring parameters from checkpoints/SparseLogisticRegression/SparseLogisticRegression-20\n",
      "[SparseLogisticRegression] Loaded model <SparseLogisticRegression>\n",
      "[SparseLogisticRegression] F-1 Score: 0.09404761904761905\n",
      "============================================================\n",
      "[5] Testing batch_size = 64, lr = 1.00e-02, l1_penalty = 1.00e-06, l2_penalty = 1.00e-06, rebalance = 5.00e-01\n",
      "============================================================\n",
      "[SparseLogisticRegression] Training model\n",
      "[SparseLogisticRegression] n_train=384  #epochs=30  batch size=64\n",
      "[SparseLogisticRegression] Epoch 0 (2.34s)\tAverage loss=0.871018\tDev F1=8.70\n",
      "[SparseLogisticRegression] Epoch 10 (9.95s)\tAverage loss=0.833768\tDev F1=8.04\n",
      "[SparseLogisticRegression] Epoch 20 (17.44s)\tAverage loss=0.735388\tDev F1=8.29\n",
      "[SparseLogisticRegression] Model saved as <SparseLogisticRegression>\n",
      "[SparseLogisticRegression] Epoch 29 (24.21s)\tAverage loss=0.711813\tDev F1=8.66\n",
      "[SparseLogisticRegression] Model saved as <SparseLogisticRegression>\n",
      "[SparseLogisticRegression] Training done (25.66s)\n",
      "INFO:tensorflow:Restoring parameters from checkpoints/SparseLogisticRegression/SparseLogisticRegression-29\n",
      "[SparseLogisticRegression] Loaded model <SparseLogisticRegression>\n"
     ]
    },
    {
     "name": "stdout",
     "output_type": "stream",
     "text": [
      "[SparseLogisticRegression] F-1 Score: 0.08659217877094971\n",
      "INFO:tensorflow:Restoring parameters from checkpoints/grid_search/SparseLogisticRegression_1/SparseLogisticRegression_1-0\n",
      "[SparseLogisticRegression] Loaded model <SparseLogisticRegression_1>\n"
     ]
    },
    {
     "data": {
      "text/html": [
       "<div>\n",
       "<style scoped>\n",
       "    .dataframe tbody tr th:only-of-type {\n",
       "        vertical-align: middle;\n",
       "    }\n",
       "\n",
       "    .dataframe tbody tr th {\n",
       "        vertical-align: top;\n",
       "    }\n",
       "\n",
       "    .dataframe thead th {\n",
       "        text-align: right;\n",
       "    }\n",
       "</style>\n",
       "<table border=\"1\" class=\"dataframe\">\n",
       "  <thead>\n",
       "    <tr style=\"text-align: right;\">\n",
       "      <th></th>\n",
       "      <th>batch_size</th>\n",
       "      <th>lr</th>\n",
       "      <th>l1_penalty</th>\n",
       "      <th>l2_penalty</th>\n",
       "      <th>rebalance</th>\n",
       "      <th>Prec.</th>\n",
       "      <th>Rec.</th>\n",
       "      <th>F-1</th>\n",
       "    </tr>\n",
       "  </thead>\n",
       "  <tbody>\n",
       "    <tr>\n",
       "      <th>1</th>\n",
       "      <td>64</td>\n",
       "      <td>0.0010</td>\n",
       "      <td>0.000100</td>\n",
       "      <td>0.010000</td>\n",
       "      <td>0.5</td>\n",
       "      <td>0.054098</td>\n",
       "      <td>0.653465</td>\n",
       "      <td>0.099924</td>\n",
       "    </tr>\n",
       "    <tr>\n",
       "      <th>2</th>\n",
       "      <td>128</td>\n",
       "      <td>0.0100</td>\n",
       "      <td>0.000001</td>\n",
       "      <td>0.000100</td>\n",
       "      <td>0.0</td>\n",
       "      <td>0.052232</td>\n",
       "      <td>0.544554</td>\n",
       "      <td>0.095321</td>\n",
       "    </tr>\n",
       "    <tr>\n",
       "      <th>3</th>\n",
       "      <td>64</td>\n",
       "      <td>0.0100</td>\n",
       "      <td>0.010000</td>\n",
       "      <td>0.010000</td>\n",
       "      <td>0.0</td>\n",
       "      <td>0.050032</td>\n",
       "      <td>0.782178</td>\n",
       "      <td>0.094048</td>\n",
       "    </tr>\n",
       "    <tr>\n",
       "      <th>0</th>\n",
       "      <td>64</td>\n",
       "      <td>0.0001</td>\n",
       "      <td>0.000001</td>\n",
       "      <td>0.000100</td>\n",
       "      <td>0.0</td>\n",
       "      <td>0.047377</td>\n",
       "      <td>0.554455</td>\n",
       "      <td>0.087295</td>\n",
       "    </tr>\n",
       "    <tr>\n",
       "      <th>4</th>\n",
       "      <td>64</td>\n",
       "      <td>0.0100</td>\n",
       "      <td>0.000001</td>\n",
       "      <td>0.000001</td>\n",
       "      <td>0.5</td>\n",
       "      <td>0.046582</td>\n",
       "      <td>0.613861</td>\n",
       "      <td>0.086592</td>\n",
       "    </tr>\n",
       "  </tbody>\n",
       "</table>\n",
       "</div>"
      ],
      "text/plain": [
       "   batch_size      lr  l1_penalty  l2_penalty  rebalance     Prec.      Rec.  \\\n",
       "1          64  0.0010    0.000100    0.010000        0.5  0.054098  0.653465   \n",
       "2         128  0.0100    0.000001    0.000100        0.0  0.052232  0.544554   \n",
       "3          64  0.0100    0.010000    0.010000        0.0  0.050032  0.782178   \n",
       "0          64  0.0001    0.000001    0.000100        0.0  0.047377  0.554455   \n",
       "4          64  0.0100    0.000001    0.000001        0.5  0.046582  0.613861   \n",
       "\n",
       "        F-1  \n",
       "1  0.099924  \n",
       "2  0.095321  \n",
       "3  0.094048  \n",
       "0  0.087295  \n",
       "4  0.086592  "
      ]
     },
     "execution_count": 8,
     "metadata": {},
     "output_type": "execute_result"
    }
   ],
   "source": [
    "from snorkel.learning import RandomSearch\n",
    "from snorkel.learning.tensorflow import SparseLogisticRegression\n",
    "\n",
    "seed = 1234\n",
    "num_model_search = 5\n",
    "\n",
    "# search over this parameter grid\n",
    "param_grid = {}\n",
    "param_grid['batch_size'] = [64, 128]\n",
    "param_grid['lr']         = [1e-4, 1e-3, 1e-2]\n",
    "param_grid['l1_penalty'] = [1e-6, 1e-4, 1e-2]\n",
    "param_grid['l2_penalty'] = [1e-6, 1e-4, 1e-2]\n",
    "param_grid['rebalance']  = [0.0, 0.5]\n",
    "\n",
    "model_class_params = {\n",
    "    'n_threads':1\n",
    "}\n",
    "\n",
    "model_hyperparams = {\n",
    "    'n_epochs': 30,\n",
    "    'print_freq': 10,\n",
    "    'dev_ckpt_delay': 0.5,\n",
    "    'X_dev': F_dev,\n",
    "    'Y_dev': L_gold_dev\n",
    "}\n",
    "\n",
    "searcher = RandomSearch(SparseLogisticRegression, param_grid, F_train, train_marginals,\n",
    "                        n=num_model_search, seed=seed,\n",
    "                        model_class_params=model_class_params,\n",
    "                        model_hyperparams=model_hyperparams)\n",
    "\n",
    "print(\"Discriminitive Model Parameter Space (seed={}):\".format(seed))\n",
    "for i, params in enumerate(searcher.search_space()):\n",
    "    print(\"{} {}\".format(i, params))\n",
    "\n",
    "disc_model, run_stats = searcher.fit(X_valid=F_dev, Y_valid=L_gold_dev, n_threads=1)\n",
    "run_stats"
   ]
  },
  {
   "cell_type": "markdown",
   "metadata": {},
   "source": [
    "## Examining Features\n",
    "Extracting features allows us to inspect and interperet our learned weights "
   ]
  },
  {
   "cell_type": "code",
   "execution_count": 9,
   "metadata": {},
   "outputs": [
    {
     "name": "stdout",
     "output_type": "stream",
     "text": [
      "240337\n",
      "[-0.2692288, 'BETWEEN_SEQ_POS_TAGS[RBS JJ]']\n",
      "[-0.26609722, 'BETWEEN_LEMMAS[lower]']\n",
      "[-0.25545013, 'BETWEEN_SEQ_LEMMAS[length dress ,]']\n",
      "[-0.25052166, 'WIN_RIGHT_LEMMAS[surprised]']\n",
      "[-0.23814753, 'WIN_RIGHT_SEQ_LEMMAS[be arrest Saturday]']\n",
      "[-0.235447, 'BETWEEN_SEQ_LEMMAS[legend of the]']\n",
      "[-0.23506752, 'WIN_LEFT_SEQ_LEMMAS[suggest a]']\n",
      "[-0.23383911, 'WIN_RIGHT_SEQ_LEMMAS[36 .]']\n",
      "[-0.23379186, 'WIN_LEFT_SEQ_LEMMAS[actress and -PRON-]']\n",
      "[-0.23231317, 'BETWEEN_SEQ_LEMMAS[term , -PRON-]']\n",
      "[-0.2306268, 'WIN_LEFT_SEQ_POS_TAGS[NN , VBP]']\n",
      "[-0.22970876, 'BETWEEN_SEQ_LEMMAS[del Sol]']\n",
      "[-0.2288735, 'BETWEEN_LEMMAS[Duncan]']\n",
      "[-0.22881396, 'WIN_LEFT_LEMMAS[favourite]']\n",
      "[-0.22490391, 'BETWEEN_SEQ_LEMMAS[attend high school]']\n",
      "[-0.22469394, 'WIN_RIGHT_SEQ_LEMMAS[Rigby )]']\n",
      "[-0.22425845, 'WIN_LEFT_SEQ_LEMMAS[ok , but]']\n",
      "[-0.22380868, 'BETWEEN_SEQ_LEMMAS[Western Region Chief]']\n",
      "[-0.22208485, 'WIN_RIGHT_SEQ_LEMMAS[certainly think so]']\n",
      "[-0.2164961, 'BETWEEN_SEQ_LEMMAS[a court to]']\n",
      "[-0.2158836, 'WIN_RIGHT_SEQ_POS_TAGS[NNP -LRB-]']\n",
      "[-0.21399361, 'BETWEEN_SEQ_LEMMAS[JK Rowling shoot]']\n",
      "[-0.21352565, 'WIN_LEFT_SEQ_LEMMAS[creator and showrunner]']\n",
      "[-0.21258335, 'WIN_RIGHT_LEMMAS[Adam]']\n",
      "[-0.21205324, 'WIN_RIGHT_SEQ_LEMMAS[the unification of]']\n",
      "[-0.21169527, 'BETWEEN_SEQ_LEMMAS[of post -]']\n",
      "[-0.20916332, 'WIN_LEFT_SEQ_LEMMAS[next - door]']\n",
      "[-0.20863587, \"BETWEEN_SEQ_LEMMAS[' never]\"]\n",
      "[-0.20817243, 'BETWEEN_SEQ_LEMMAS[greet -PRON- with]']\n",
      "[-0.20807786, 'BETWEEN_SEQ_LEMMAS[of Empire]']\n",
      "[-0.20776637, 'BETWEEN_SEQ_LEMMAS[to Prince Philip]']\n",
      "[-0.20616624, 'BETWEEN_SEQ_LEMMAS[, read ,]']\n",
      "[-0.20587328, 'WIN_LEFT_SEQ_LEMMAS[wife Lori]']\n",
      "[-0.20353664, 'BETWEEN_SEQ_LEMMAS[gunfire to protect]']\n",
      "[-0.20346826, 'WIN_RIGHT_LEMMAS[Tweedbank]']\n",
      "[-0.20305109, 'BETWEEN_LEMMAS[elated]']\n",
      "[-0.20192692, 'WIN_RIGHT_SEQ_LEMMAS[move that]']\n",
      "[-0.20106716, 'BETWEEN_SEQ_LEMMAS[musician Bruce Springsteen]']\n",
      "[-0.20031999, 'BETWEEN_SEQ_LEMMAS[   Kim be]']\n",
      "[-0.1998196, 'BETWEEN_SEQ_LEMMAS[truth behind]']\n",
      "[-0.19977525, 'BETWEEN_SEQ_LEMMAS[Charlie and]']\n",
      "[-0.19941275, 'WIN_RIGHT_SEQ_POS_TAGS[VBG PRP ``]']\n",
      "[-0.19921112, 'BETWEEN_SEQ_LEMMAS[season 10 of]']\n",
      "[-0.19772129, 'BETWEEN_SEQ_LEMMAS[girlfriend Phoebe]']\n",
      "[-0.19721493, 'BETWEEN_SEQ_LEMMAS[, Liz Kendall]']\n",
      "[-0.19492099, 'BETWEEN_SEQ_LEMMAS[Tuesday after end]']\n",
      "[-0.19446091, 'WIN_LEFT_SEQ_LEMMAS[on Tuesday afternoon]']\n",
      "[-0.19441529, 'BETWEEN_SEQ_LEMMAS[Patriots when -PRON-]']\n",
      "[-0.19416021, 'WIN_RIGHT_SEQ_LEMMAS[outdoors and have]']\n",
      "[-0.19384998, 'BETWEEN_SEQ_LEMMAS[July 18 in]']\n",
      "--------------------\n",
      "[0.20514224, 'BETWEEN_SEQ_LEMMAS[and Sean be]']\n",
      "[0.2061578, 'BETWEEN_LEMMAS[to]']\n",
      "[0.20650807, 'BETWEEN_SEQ_LEMMAS[21 partner ,]']\n",
      "[0.20658556, \"BETWEEN_SEQ_LEMMAS[court 's attention]\"]\n",
      "[0.20700617, 'WIN_RIGHT_SEQ_LEMMAS[\\xa0    Kim]']\n",
      "[0.20762442, 'BETWEEN_SEQ_LEMMAS[prime accuse Indrani]']\n",
      "[0.20818771, 'WIN_LEFT_SEQ_LEMMAS[to ITV]']\n",
      "[0.20858352, 'BETWEEN_SEQ_LEMMAS[sibling , 14-year]']\n",
      "[0.20974043, 'BETWEEN_SEQ_LEMMAS[for change]']\n",
      "[0.21014832, 'WIN_RIGHT_SEQ_LEMMAS[Derek Hough   ]']\n",
      "[0.21081398, 'WIN_RIGHT_SEQ_LEMMAS[in the Irish]']\n",
      "[0.21092382, 'BETWEEN_SEQ_POS_TAGS[VBN : CC]']\n",
      "[0.21121417, 'WIN_LEFT_SEQ_LEMMAS[the cast include]']\n",
      "[0.21225056, 'BETWEEN_SEQ_LEMMAS[the Today Show]']\n",
      "[0.21241793, 'BETWEEN_SEQ_POS_TAGS[DT CD NNP]']\n",
      "[0.21326524, \"BETWEEN_SEQ_LEMMAS[of ']\"]\n",
      "[0.21382982, 'BETWEEN_SEQ_LEMMAS[longtime love]']\n",
      "[0.2161476, 'BETWEEN_SEQ_LEMMAS[-PRON- wife before]']\n",
      "[0.21633336, 'BETWEEN_SEQ_LEMMAS[condolence Monday]']\n",
      "[0.2164564, 'BETWEEN_SEQ_LEMMAS[own the Kolkata]']\n",
      "[0.21668263, 'BETWEEN_SEQ_LEMMAS[film Selma have]']\n",
      "[0.2171478, 'WIN_LEFT_SEQ_LEMMAS[2012 people say]']\n",
      "[0.21857709, 'BETWEEN_SEQ_LEMMAS[entity associate with]']\n",
      "[0.21895258, 'WIN_RIGHT_LEMMAS[Serkis]']\n",
      "[0.21932842, 'BETWEEN_LEMMAS[mistress]']\n",
      "[0.21977483, 'BETWEEN_SEQ_LEMMAS[have continue]']\n",
      "[0.22011092, 'BETWEEN_LEMMAS[Jameson]']\n",
      "[0.22031114, 'WIN_RIGHT_LEMMAS[ten]']\n",
      "[0.22072111, 'WIN_RIGHT_SEQ_LEMMAS[whom be]']\n",
      "[0.22304606, \"WIN_RIGHT_SEQ_LEMMAS[of Lockton 's]\"]\n",
      "[0.23195478, 'BETWEEN_LEMMAS[Bonnie]']\n",
      "[0.23208044, 'WIN_RIGHT_SEQ_POS_TAGS[VBG JJ]']\n",
      "[0.2324853, 'WIN_LEFT_SEQ_LEMMAS[the happy]']\n",
      "[0.23439862, 'BETWEEN_SEQ_LEMMAS[-PRON- teenage child]']\n",
      "[0.23608863, 'BETWEEN_SEQ_LEMMAS[Rizolli &]']\n",
      "[0.23794979, 'WIN_RIGHT_SEQ_POS_TAGS[VBN -RRB-]']\n",
      "[0.23903486, 'BETWEEN_SEQ_LEMMAS[stop at]']\n",
      "[0.24020036, 'BETWEEN_SEQ_LEMMAS[alongside model of]']\n",
      "[0.24219042, 'WIN_RIGHT_SEQ_LEMMAS[lucky that]']\n",
      "[0.24699515, 'BETWEEN_SEQ_LEMMAS[cover the]']\n",
      "[0.24709336, 'WIN_RIGHT_SEQ_POS_TAGS[PRP MD VB]']\n",
      "[0.2474182, 'BETWEEN_SEQ_LEMMAS[around ,]']\n",
      "[0.24910139, 'WIN_RIGHT_SEQ_LEMMAS[      also]']\n",
      "[0.25102055, 'BETWEEN_SEQ_LEMMAS[do have]']\n",
      "[0.2562607, 'WIN_RIGHT_SEQ_LEMMAS[in both]']\n",
      "[0.2677813, 'BETWEEN_SEQ_LEMMAS[in Washington state]']\n",
      "[0.27805176, 'BETWEEN_SEQ_LEMMAS[E Corp wannabe]']\n",
      "[0.27872953, 'BETWEEN_SEQ_LEMMAS[french composer]']\n",
      "[0.3121716, 'WIN_RIGHT_SEQ_POS_TAGS[DT `` DT]']\n"
     ]
    }
   ],
   "source": [
    "from lib.scoring import *\n",
    "print_top_k_features(session, disc_model, F_train, top_k=25)"
   ]
  }
 ],
 "metadata": {
  "anaconda-cloud": {},
  "kernelspec": {
   "display_name": "Python 3",
   "language": "python",
   "name": "python3"
  },
  "language_info": {
   "codemirror_mode": {
    "name": "ipython",
    "version": 3
   },
   "file_extension": ".py",
   "mimetype": "text/x-python",
   "name": "python",
   "nbconvert_exporter": "python",
   "pygments_lexer": "ipython3",
   "version": "3.7.6"
  },
  "toc": {
   "base_numbering": 1,
   "nav_menu": {},
   "number_sections": true,
   "sideBar": true,
   "skip_h1_title": false,
   "title_cell": "Table of Contents",
   "title_sidebar": "Contents",
   "toc_cell": false,
   "toc_position": {},
   "toc_section_display": true,
   "toc_window_display": false
  }
 },
 "nbformat": 4,
 "nbformat_minor": 1
}
